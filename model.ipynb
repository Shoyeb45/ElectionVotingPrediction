{
 "cells": [
  {
   "cell_type": "code",
   "execution_count": 1,
   "metadata": {},
   "outputs": [],
   "source": [
    "import pandas as pd \n",
    "import numpy as np"
   ]
  },
  {
   "cell_type": "markdown",
   "metadata": {},
   "source": []
  },
  {
   "cell_type": "markdown",
   "metadata": {},
   "source": [
    "# 1. Data Ingestion\n",
    "Loading the data using pandas function called `read_excel`"
   ]
  },
  {
   "cell_type": "code",
   "execution_count": 11,
   "metadata": {},
   "outputs": [
    {
     "data": {
      "application/vnd.microsoft.datawrangler.viewer.v0+json": {
       "columns": [
        {
         "name": "index",
         "rawType": "int64",
         "type": "integer"
        },
        {
         "name": "**Data Dictionary**",
         "rawType": "object",
         "type": "unknown"
        }
       ],
       "conversionMethod": "pd.DataFrame",
       "ref": "2f0cda6e-ce92-4b1b-bfb0-178ac69aa7fe",
       "rows": [
        [
         "0",
         null
        ],
        [
         "1",
         "1. vote: Party choice: Conservative or Labour"
        ],
        [
         "2",
         null
        ],
        [
         "3",
         "2. age: in years"
        ],
        [
         "4",
         null
        ],
        [
         "5",
         "3. economic.cond.national: Assessment of current national economic conditions, 1 to 5."
        ],
        [
         "6",
         null
        ],
        [
         "7",
         "4. economic.cond.household: Assessment of current household economic conditions, 1 to 5."
        ],
        [
         "8",
         null
        ],
        [
         "9",
         "5. Blair: Assessment of the Labour leader, 1 to 5."
        ],
        [
         "10",
         null
        ],
        [
         "11",
         "6. Hague: Assessment of the Conservative leader, 1 to 5."
        ],
        [
         "12",
         null
        ],
        [
         "13",
         "7. Europe: an 11-point scale that measures respondents' attitudes toward European integration. High scores represent ‘Eurosceptic’ sentiment."
        ],
        [
         "14",
         null
        ],
        [
         "15",
         "8. political.knowledge: Knowledge of parties' positions on European integration, 0 to 3."
        ],
        [
         "16",
         null
        ],
        [
         "17",
         "9. gender: female or male."
        ]
       ],
       "shape": {
        "columns": 1,
        "rows": 18
       }
      },
      "text/html": [
       "<div>\n",
       "<style scoped>\n",
       "    .dataframe tbody tr th:only-of-type {\n",
       "        vertical-align: middle;\n",
       "    }\n",
       "\n",
       "    .dataframe tbody tr th {\n",
       "        vertical-align: top;\n",
       "    }\n",
       "\n",
       "    .dataframe thead th {\n",
       "        text-align: right;\n",
       "    }\n",
       "</style>\n",
       "<table border=\"1\" class=\"dataframe\">\n",
       "  <thead>\n",
       "    <tr style=\"text-align: right;\">\n",
       "      <th></th>\n",
       "      <th>**Data Dictionary**</th>\n",
       "    </tr>\n",
       "  </thead>\n",
       "  <tbody>\n",
       "    <tr>\n",
       "      <th>0</th>\n",
       "      <td>NaN</td>\n",
       "    </tr>\n",
       "    <tr>\n",
       "      <th>1</th>\n",
       "      <td>1. vote: Party choice: Conservative or Labour</td>\n",
       "    </tr>\n",
       "    <tr>\n",
       "      <th>2</th>\n",
       "      <td>NaN</td>\n",
       "    </tr>\n",
       "    <tr>\n",
       "      <th>3</th>\n",
       "      <td>2. age: in years</td>\n",
       "    </tr>\n",
       "    <tr>\n",
       "      <th>4</th>\n",
       "      <td>NaN</td>\n",
       "    </tr>\n",
       "    <tr>\n",
       "      <th>5</th>\n",
       "      <td>3. economic.cond.national: Assessment of curre...</td>\n",
       "    </tr>\n",
       "    <tr>\n",
       "      <th>6</th>\n",
       "      <td>NaN</td>\n",
       "    </tr>\n",
       "    <tr>\n",
       "      <th>7</th>\n",
       "      <td>4. economic.cond.household: Assessment of curr...</td>\n",
       "    </tr>\n",
       "    <tr>\n",
       "      <th>8</th>\n",
       "      <td>NaN</td>\n",
       "    </tr>\n",
       "    <tr>\n",
       "      <th>9</th>\n",
       "      <td>5. Blair: Assessment of the Labour leader, 1 t...</td>\n",
       "    </tr>\n",
       "    <tr>\n",
       "      <th>10</th>\n",
       "      <td>NaN</td>\n",
       "    </tr>\n",
       "    <tr>\n",
       "      <th>11</th>\n",
       "      <td>6. Hague: Assessment of the Conservative leade...</td>\n",
       "    </tr>\n",
       "    <tr>\n",
       "      <th>12</th>\n",
       "      <td>NaN</td>\n",
       "    </tr>\n",
       "    <tr>\n",
       "      <th>13</th>\n",
       "      <td>7. Europe: an 11-point scale that measures res...</td>\n",
       "    </tr>\n",
       "    <tr>\n",
       "      <th>14</th>\n",
       "      <td>NaN</td>\n",
       "    </tr>\n",
       "    <tr>\n",
       "      <th>15</th>\n",
       "      <td>8. political.knowledge: Knowledge of parties' ...</td>\n",
       "    </tr>\n",
       "    <tr>\n",
       "      <th>16</th>\n",
       "      <td>NaN</td>\n",
       "    </tr>\n",
       "    <tr>\n",
       "      <th>17</th>\n",
       "      <td>9. gender: female or male.</td>\n",
       "    </tr>\n",
       "  </tbody>\n",
       "</table>\n",
       "</div>"
      ],
      "text/plain": [
       "                                  **Data Dictionary**\n",
       "0                                                 NaN\n",
       "1       1. vote: Party choice: Conservative or Labour\n",
       "2                                                 NaN\n",
       "3                                    2. age: in years\n",
       "4                                                 NaN\n",
       "5   3. economic.cond.national: Assessment of curre...\n",
       "6                                                 NaN\n",
       "7   4. economic.cond.household: Assessment of curr...\n",
       "8                                                 NaN\n",
       "9   5. Blair: Assessment of the Labour leader, 1 t...\n",
       "10                                                NaN\n",
       "11  6. Hague: Assessment of the Conservative leade...\n",
       "12                                                NaN\n",
       "13  7. Europe: an 11-point scale that measures res...\n",
       "14                                                NaN\n",
       "15  8. political.knowledge: Knowledge of parties' ...\n",
       "16                                                NaN\n",
       "17                         9. gender: female or male."
      ]
     },
     "execution_count": 11,
     "metadata": {},
     "output_type": "execute_result"
    }
   ],
   "source": [
    "metadata = pd.read_excel(\"./Data/Election_Data.xlsx\")\n",
    "metadata"
   ]
  },
  {
   "cell_type": "markdown",
   "metadata": {},
   "source": [
    "| Column                      | Description |\n",
    "|-----------------------------|-------------|\n",
    "| vote                        | Party choice: Conservative or Labour |\n",
    "| age                         | Age in years |\n",
    "| economic.cond.national      | Assessment of current national economic conditions, 1 to 5 |\n",
    "| economic.cond.household     | Assessment of current household economic conditions, 1 to 5 |\n",
    "| Blair                       | Assessment of the Labour leader, 1 to 5 |\n",
    "| Hague                       | Assessment of the Conservative leader, 1 to 5 |\n",
    "| Europe                      | An 11-point scale that measures respondents' attitudes toward European integration. High scores represent ‘Eurosceptic’ sentiment |\n",
    "| political.knowledge         | Knowledge of parties' positions on European integration, 0 to 3 |\n",
    "| gender                      | Female or male |\n"
   ]
  },
  {
   "cell_type": "code",
   "execution_count": 3,
   "metadata": {},
   "outputs": [],
   "source": [
    "df = pd.read_excel(\"./Data/Election_Data.xlsx\", sheet_name=\"Election_Dataset_Two Classes\")"
   ]
  },
  {
   "cell_type": "code",
   "execution_count": 4,
   "metadata": {},
   "outputs": [
    {
     "data": {
      "text/html": [
       "<div>\n",
       "<style scoped>\n",
       "    .dataframe tbody tr th:only-of-type {\n",
       "        vertical-align: middle;\n",
       "    }\n",
       "\n",
       "    .dataframe tbody tr th {\n",
       "        vertical-align: top;\n",
       "    }\n",
       "\n",
       "    .dataframe thead th {\n",
       "        text-align: right;\n",
       "    }\n",
       "</style>\n",
       "<table border=\"1\" class=\"dataframe\">\n",
       "  <thead>\n",
       "    <tr style=\"text-align: right;\">\n",
       "      <th></th>\n",
       "      <th>Unnamed: 0</th>\n",
       "      <th>vote</th>\n",
       "      <th>age</th>\n",
       "      <th>economic.cond.national</th>\n",
       "      <th>economic.cond.household</th>\n",
       "      <th>Blair</th>\n",
       "      <th>Hague</th>\n",
       "      <th>Europe</th>\n",
       "      <th>political.knowledge</th>\n",
       "      <th>gender</th>\n",
       "    </tr>\n",
       "  </thead>\n",
       "  <tbody>\n",
       "    <tr>\n",
       "      <th>0</th>\n",
       "      <td>1</td>\n",
       "      <td>Labour</td>\n",
       "      <td>43</td>\n",
       "      <td>3</td>\n",
       "      <td>3</td>\n",
       "      <td>4</td>\n",
       "      <td>1</td>\n",
       "      <td>2</td>\n",
       "      <td>2</td>\n",
       "      <td>female</td>\n",
       "    </tr>\n",
       "    <tr>\n",
       "      <th>1</th>\n",
       "      <td>2</td>\n",
       "      <td>Labour</td>\n",
       "      <td>36</td>\n",
       "      <td>4</td>\n",
       "      <td>4</td>\n",
       "      <td>4</td>\n",
       "      <td>4</td>\n",
       "      <td>5</td>\n",
       "      <td>2</td>\n",
       "      <td>male</td>\n",
       "    </tr>\n",
       "    <tr>\n",
       "      <th>2</th>\n",
       "      <td>3</td>\n",
       "      <td>Labour</td>\n",
       "      <td>35</td>\n",
       "      <td>4</td>\n",
       "      <td>4</td>\n",
       "      <td>5</td>\n",
       "      <td>2</td>\n",
       "      <td>3</td>\n",
       "      <td>2</td>\n",
       "      <td>male</td>\n",
       "    </tr>\n",
       "    <tr>\n",
       "      <th>3</th>\n",
       "      <td>4</td>\n",
       "      <td>Labour</td>\n",
       "      <td>24</td>\n",
       "      <td>4</td>\n",
       "      <td>2</td>\n",
       "      <td>2</td>\n",
       "      <td>1</td>\n",
       "      <td>4</td>\n",
       "      <td>0</td>\n",
       "      <td>female</td>\n",
       "    </tr>\n",
       "    <tr>\n",
       "      <th>4</th>\n",
       "      <td>5</td>\n",
       "      <td>Labour</td>\n",
       "      <td>41</td>\n",
       "      <td>2</td>\n",
       "      <td>2</td>\n",
       "      <td>1</td>\n",
       "      <td>1</td>\n",
       "      <td>6</td>\n",
       "      <td>2</td>\n",
       "      <td>male</td>\n",
       "    </tr>\n",
       "    <tr>\n",
       "      <th>...</th>\n",
       "      <td>...</td>\n",
       "      <td>...</td>\n",
       "      <td>...</td>\n",
       "      <td>...</td>\n",
       "      <td>...</td>\n",
       "      <td>...</td>\n",
       "      <td>...</td>\n",
       "      <td>...</td>\n",
       "      <td>...</td>\n",
       "      <td>...</td>\n",
       "    </tr>\n",
       "    <tr>\n",
       "      <th>1520</th>\n",
       "      <td>1521</td>\n",
       "      <td>Conservative</td>\n",
       "      <td>67</td>\n",
       "      <td>5</td>\n",
       "      <td>3</td>\n",
       "      <td>2</td>\n",
       "      <td>4</td>\n",
       "      <td>11</td>\n",
       "      <td>3</td>\n",
       "      <td>male</td>\n",
       "    </tr>\n",
       "    <tr>\n",
       "      <th>1521</th>\n",
       "      <td>1522</td>\n",
       "      <td>Conservative</td>\n",
       "      <td>73</td>\n",
       "      <td>2</td>\n",
       "      <td>2</td>\n",
       "      <td>4</td>\n",
       "      <td>4</td>\n",
       "      <td>8</td>\n",
       "      <td>2</td>\n",
       "      <td>male</td>\n",
       "    </tr>\n",
       "    <tr>\n",
       "      <th>1522</th>\n",
       "      <td>1523</td>\n",
       "      <td>Labour</td>\n",
       "      <td>37</td>\n",
       "      <td>3</td>\n",
       "      <td>3</td>\n",
       "      <td>5</td>\n",
       "      <td>4</td>\n",
       "      <td>2</td>\n",
       "      <td>2</td>\n",
       "      <td>male</td>\n",
       "    </tr>\n",
       "    <tr>\n",
       "      <th>1523</th>\n",
       "      <td>1524</td>\n",
       "      <td>Conservative</td>\n",
       "      <td>61</td>\n",
       "      <td>3</td>\n",
       "      <td>3</td>\n",
       "      <td>1</td>\n",
       "      <td>4</td>\n",
       "      <td>11</td>\n",
       "      <td>2</td>\n",
       "      <td>male</td>\n",
       "    </tr>\n",
       "    <tr>\n",
       "      <th>1524</th>\n",
       "      <td>1525</td>\n",
       "      <td>Conservative</td>\n",
       "      <td>74</td>\n",
       "      <td>2</td>\n",
       "      <td>3</td>\n",
       "      <td>2</td>\n",
       "      <td>4</td>\n",
       "      <td>11</td>\n",
       "      <td>0</td>\n",
       "      <td>female</td>\n",
       "    </tr>\n",
       "  </tbody>\n",
       "</table>\n",
       "<p>1525 rows × 10 columns</p>\n",
       "</div>"
      ],
      "text/plain": [
       "      Unnamed: 0          vote  age  economic.cond.national  \\\n",
       "0              1        Labour   43                       3   \n",
       "1              2        Labour   36                       4   \n",
       "2              3        Labour   35                       4   \n",
       "3              4        Labour   24                       4   \n",
       "4              5        Labour   41                       2   \n",
       "...          ...           ...  ...                     ...   \n",
       "1520        1521  Conservative   67                       5   \n",
       "1521        1522  Conservative   73                       2   \n",
       "1522        1523        Labour   37                       3   \n",
       "1523        1524  Conservative   61                       3   \n",
       "1524        1525  Conservative   74                       2   \n",
       "\n",
       "      economic.cond.household  Blair  Hague  Europe  political.knowledge  \\\n",
       "0                           3      4      1       2                    2   \n",
       "1                           4      4      4       5                    2   \n",
       "2                           4      5      2       3                    2   \n",
       "3                           2      2      1       4                    0   \n",
       "4                           2      1      1       6                    2   \n",
       "...                       ...    ...    ...     ...                  ...   \n",
       "1520                        3      2      4      11                    3   \n",
       "1521                        2      4      4       8                    2   \n",
       "1522                        3      5      4       2                    2   \n",
       "1523                        3      1      4      11                    2   \n",
       "1524                        3      2      4      11                    0   \n",
       "\n",
       "      gender  \n",
       "0     female  \n",
       "1       male  \n",
       "2       male  \n",
       "3     female  \n",
       "4       male  \n",
       "...      ...  \n",
       "1520    male  \n",
       "1521    male  \n",
       "1522    male  \n",
       "1523    male  \n",
       "1524  female  \n",
       "\n",
       "[1525 rows x 10 columns]"
      ]
     },
     "execution_count": 4,
     "metadata": {},
     "output_type": "execute_result"
    }
   ],
   "source": [
    "df"
   ]
  },
  {
   "cell_type": "markdown",
   "metadata": {},
   "source": [
    "# 2. Data Preparation\n",
    "\n",
    "- We'll check for null values and check for non-required columns."
   ]
  },
  {
   "cell_type": "code",
   "execution_count": 5,
   "metadata": {},
   "outputs": [
    {
     "data": {
      "text/plain": [
       "(1525, 10)"
      ]
     },
     "execution_count": 5,
     "metadata": {},
     "output_type": "execute_result"
    }
   ],
   "source": [
    "df.shape # num Of rows and columns"
   ]
  },
  {
   "cell_type": "code",
   "execution_count": 6,
   "metadata": {},
   "outputs": [
    {
     "name": "stdout",
     "output_type": "stream",
     "text": [
      "<class 'pandas.core.frame.DataFrame'>\n",
      "RangeIndex: 1525 entries, 0 to 1524\n",
      "Data columns (total 10 columns):\n",
      " #   Column                   Non-Null Count  Dtype \n",
      "---  ------                   --------------  ----- \n",
      " 0   Unnamed: 0               1525 non-null   int64 \n",
      " 1   vote                     1525 non-null   object\n",
      " 2   age                      1525 non-null   int64 \n",
      " 3   economic.cond.national   1525 non-null   int64 \n",
      " 4   economic.cond.household  1525 non-null   int64 \n",
      " 5   Blair                    1525 non-null   int64 \n",
      " 6   Hague                    1525 non-null   int64 \n",
      " 7   Europe                   1525 non-null   int64 \n",
      " 8   political.knowledge      1525 non-null   int64 \n",
      " 9   gender                   1525 non-null   object\n",
      "dtypes: int64(8), object(2)\n",
      "memory usage: 119.3+ KB\n"
     ]
    }
   ],
   "source": [
    "df.info()"
   ]
  },
  {
   "cell_type": "markdown",
   "metadata": {},
   "source": [
    "- We can see `Unnamed: 0` is serial number column which is of no use. We'll remove that row\n",
    "- And there are two columns which is of type object\n",
    "- vote is our target value, we need to classify new data point to the classes given in vote"
   ]
  },
  {
   "cell_type": "code",
   "execution_count": 13,
   "metadata": {},
   "outputs": [
    {
     "data": {
      "text/plain": [
       "vote\n",
       "Labour          1063\n",
       "Conservative     462\n",
       "Name: count, dtype: int64"
      ]
     },
     "execution_count": 13,
     "metadata": {},
     "output_type": "execute_result"
    }
   ],
   "source": [
    "df[\"vote\"].value_counts()"
   ]
  },
  {
   "cell_type": "code",
   "execution_count": 7,
   "metadata": {},
   "outputs": [],
   "source": [
    "df.drop(columns = \"Unnamed: 0\", axis = 1, inplace = True)"
   ]
  },
  {
   "cell_type": "code",
   "execution_count": 8,
   "metadata": {},
   "outputs": [],
   "source": [
    "def data_quality_check(df):\n",
    "    '''\n",
    "        Function for checking the quality of the data, i.e., null values\n",
    "    '''\n",
    "    print(\"Number of null values\")\n",
    "    print(df.isnull().sum())\n",
    "    \n",
    "    "
   ]
  },
  {
   "cell_type": "code",
   "execution_count": 9,
   "metadata": {},
   "outputs": [
    {
     "name": "stdout",
     "output_type": "stream",
     "text": [
      "Number of null values\n",
      "vote                       0\n",
      "age                        0\n",
      "economic.cond.national     0\n",
      "economic.cond.household    0\n",
      "Blair                      0\n",
      "Hague                      0\n",
      "Europe                     0\n",
      "political.knowledge        0\n",
      "gender                     0\n",
      "dtype: int64\n"
     ]
    }
   ],
   "source": [
    "data_quality_check(df)"
   ]
  },
  {
   "cell_type": "markdown",
   "metadata": {},
   "source": [
    "- There are no null values in any column, so we need not do any type of imputation. We can go for EDA."
   ]
  },
  {
   "cell_type": "code",
   "execution_count": 10,
   "metadata": {},
   "outputs": [
    {
     "data": {
      "application/vnd.microsoft.datawrangler.viewer.v0+json": {
       "columns": [
        {
         "name": "index",
         "rawType": "int64",
         "type": "integer"
        },
        {
         "name": "vote",
         "rawType": "object",
         "type": "string"
        },
        {
         "name": "age",
         "rawType": "int64",
         "type": "integer"
        },
        {
         "name": "economic.cond.national",
         "rawType": "int64",
         "type": "integer"
        },
        {
         "name": "economic.cond.household",
         "rawType": "int64",
         "type": "integer"
        },
        {
         "name": "Blair",
         "rawType": "int64",
         "type": "integer"
        },
        {
         "name": "Hague",
         "rawType": "int64",
         "type": "integer"
        },
        {
         "name": "Europe",
         "rawType": "int64",
         "type": "integer"
        },
        {
         "name": "political.knowledge",
         "rawType": "int64",
         "type": "integer"
        },
        {
         "name": "gender",
         "rawType": "object",
         "type": "string"
        }
       ],
       "conversionMethod": "pd.DataFrame",
       "ref": "a3a2d2a8-4dc3-4987-8526-a1a2937abcd5",
       "rows": [
        [
         "0",
         "Labour",
         "43",
         "3",
         "3",
         "4",
         "1",
         "2",
         "2",
         "female"
        ],
        [
         "1",
         "Labour",
         "36",
         "4",
         "4",
         "4",
         "4",
         "5",
         "2",
         "male"
        ],
        [
         "2",
         "Labour",
         "35",
         "4",
         "4",
         "5",
         "2",
         "3",
         "2",
         "male"
        ],
        [
         "3",
         "Labour",
         "24",
         "4",
         "2",
         "2",
         "1",
         "4",
         "0",
         "female"
        ],
        [
         "4",
         "Labour",
         "41",
         "2",
         "2",
         "1",
         "1",
         "6",
         "2",
         "male"
        ]
       ],
       "shape": {
        "columns": 9,
        "rows": 5
       }
      },
      "text/html": [
       "<div>\n",
       "<style scoped>\n",
       "    .dataframe tbody tr th:only-of-type {\n",
       "        vertical-align: middle;\n",
       "    }\n",
       "\n",
       "    .dataframe tbody tr th {\n",
       "        vertical-align: top;\n",
       "    }\n",
       "\n",
       "    .dataframe thead th {\n",
       "        text-align: right;\n",
       "    }\n",
       "</style>\n",
       "<table border=\"1\" class=\"dataframe\">\n",
       "  <thead>\n",
       "    <tr style=\"text-align: right;\">\n",
       "      <th></th>\n",
       "      <th>vote</th>\n",
       "      <th>age</th>\n",
       "      <th>economic.cond.national</th>\n",
       "      <th>economic.cond.household</th>\n",
       "      <th>Blair</th>\n",
       "      <th>Hague</th>\n",
       "      <th>Europe</th>\n",
       "      <th>political.knowledge</th>\n",
       "      <th>gender</th>\n",
       "    </tr>\n",
       "  </thead>\n",
       "  <tbody>\n",
       "    <tr>\n",
       "      <th>0</th>\n",
       "      <td>Labour</td>\n",
       "      <td>43</td>\n",
       "      <td>3</td>\n",
       "      <td>3</td>\n",
       "      <td>4</td>\n",
       "      <td>1</td>\n",
       "      <td>2</td>\n",
       "      <td>2</td>\n",
       "      <td>female</td>\n",
       "    </tr>\n",
       "    <tr>\n",
       "      <th>1</th>\n",
       "      <td>Labour</td>\n",
       "      <td>36</td>\n",
       "      <td>4</td>\n",
       "      <td>4</td>\n",
       "      <td>4</td>\n",
       "      <td>4</td>\n",
       "      <td>5</td>\n",
       "      <td>2</td>\n",
       "      <td>male</td>\n",
       "    </tr>\n",
       "    <tr>\n",
       "      <th>2</th>\n",
       "      <td>Labour</td>\n",
       "      <td>35</td>\n",
       "      <td>4</td>\n",
       "      <td>4</td>\n",
       "      <td>5</td>\n",
       "      <td>2</td>\n",
       "      <td>3</td>\n",
       "      <td>2</td>\n",
       "      <td>male</td>\n",
       "    </tr>\n",
       "    <tr>\n",
       "      <th>3</th>\n",
       "      <td>Labour</td>\n",
       "      <td>24</td>\n",
       "      <td>4</td>\n",
       "      <td>2</td>\n",
       "      <td>2</td>\n",
       "      <td>1</td>\n",
       "      <td>4</td>\n",
       "      <td>0</td>\n",
       "      <td>female</td>\n",
       "    </tr>\n",
       "    <tr>\n",
       "      <th>4</th>\n",
       "      <td>Labour</td>\n",
       "      <td>41</td>\n",
       "      <td>2</td>\n",
       "      <td>2</td>\n",
       "      <td>1</td>\n",
       "      <td>1</td>\n",
       "      <td>6</td>\n",
       "      <td>2</td>\n",
       "      <td>male</td>\n",
       "    </tr>\n",
       "  </tbody>\n",
       "</table>\n",
       "</div>"
      ],
      "text/plain": [
       "     vote  age  economic.cond.national  economic.cond.household  Blair  Hague  \\\n",
       "0  Labour   43                       3                        3      4      1   \n",
       "1  Labour   36                       4                        4      4      4   \n",
       "2  Labour   35                       4                        4      5      2   \n",
       "3  Labour   24                       4                        2      2      1   \n",
       "4  Labour   41                       2                        2      1      1   \n",
       "\n",
       "   Europe  political.knowledge  gender  \n",
       "0       2                    2  female  \n",
       "1       5                    2    male  \n",
       "2       3                    2    male  \n",
       "3       4                    0  female  \n",
       "4       6                    2    male  "
      ]
     },
     "execution_count": 10,
     "metadata": {},
     "output_type": "execute_result"
    }
   ],
   "source": [
    "df.head()"
   ]
  },
  {
   "cell_type": "code",
   "execution_count": null,
   "metadata": {},
   "outputs": [
    {
     "data": {
      "application/vnd.microsoft.datawrangler.viewer.v0+json": {
       "columns": [
        {
         "name": "index",
         "rawType": "object",
         "type": "string"
        },
        {
         "name": "age",
         "rawType": "float64",
         "type": "float"
        },
        {
         "name": "economic.cond.national",
         "rawType": "float64",
         "type": "float"
        },
        {
         "name": "economic.cond.household",
         "rawType": "float64",
         "type": "float"
        },
        {
         "name": "Blair",
         "rawType": "float64",
         "type": "float"
        },
        {
         "name": "Hague",
         "rawType": "float64",
         "type": "float"
        },
        {
         "name": "Europe",
         "rawType": "float64",
         "type": "float"
        },
        {
         "name": "political.knowledge",
         "rawType": "float64",
         "type": "float"
        }
       ],
       "conversionMethod": "pd.DataFrame",
       "ref": "9393c6af-b922-4fe4-973e-c6589edeb01b",
       "rows": [
        [
         "count",
         "1525.0",
         "1525.0",
         "1525.0",
         "1525.0",
         "1525.0",
         "1525.0",
         "1525.0"
        ],
        [
         "mean",
         "54.18229508196721",
         "3.2459016393442623",
         "3.140327868852459",
         "3.3344262295081966",
         "2.7468852459016393",
         "6.728524590163935",
         "1.5422950819672132"
        ],
        [
         "std",
         "15.711208571641961",
         "0.8809692844149635",
         "0.9299513985782095",
         "1.1748241123034628",
         "1.2307034736168019",
         "3.2975383704631973",
         "1.0833147486432684"
        ],
        [
         "min",
         "24.0",
         "1.0",
         "1.0",
         "1.0",
         "1.0",
         "1.0",
         "0.0"
        ],
        [
         "25%",
         "41.0",
         "3.0",
         "3.0",
         "2.0",
         "2.0",
         "4.0",
         "0.0"
        ],
        [
         "50%",
         "53.0",
         "3.0",
         "3.0",
         "4.0",
         "2.0",
         "6.0",
         "2.0"
        ],
        [
         "75%",
         "67.0",
         "4.0",
         "4.0",
         "4.0",
         "4.0",
         "10.0",
         "2.0"
        ],
        [
         "max",
         "93.0",
         "5.0",
         "5.0",
         "5.0",
         "5.0",
         "11.0",
         "3.0"
        ]
       ],
       "shape": {
        "columns": 7,
        "rows": 8
       }
      },
      "text/html": [
       "<div>\n",
       "<style scoped>\n",
       "    .dataframe tbody tr th:only-of-type {\n",
       "        vertical-align: middle;\n",
       "    }\n",
       "\n",
       "    .dataframe tbody tr th {\n",
       "        vertical-align: top;\n",
       "    }\n",
       "\n",
       "    .dataframe thead th {\n",
       "        text-align: right;\n",
       "    }\n",
       "</style>\n",
       "<table border=\"1\" class=\"dataframe\">\n",
       "  <thead>\n",
       "    <tr style=\"text-align: right;\">\n",
       "      <th></th>\n",
       "      <th>age</th>\n",
       "      <th>economic.cond.national</th>\n",
       "      <th>economic.cond.household</th>\n",
       "      <th>Blair</th>\n",
       "      <th>Hague</th>\n",
       "      <th>Europe</th>\n",
       "      <th>political.knowledge</th>\n",
       "    </tr>\n",
       "  </thead>\n",
       "  <tbody>\n",
       "    <tr>\n",
       "      <th>count</th>\n",
       "      <td>1525.000000</td>\n",
       "      <td>1525.000000</td>\n",
       "      <td>1525.000000</td>\n",
       "      <td>1525.000000</td>\n",
       "      <td>1525.000000</td>\n",
       "      <td>1525.000000</td>\n",
       "      <td>1525.000000</td>\n",
       "    </tr>\n",
       "    <tr>\n",
       "      <th>mean</th>\n",
       "      <td>54.182295</td>\n",
       "      <td>3.245902</td>\n",
       "      <td>3.140328</td>\n",
       "      <td>3.334426</td>\n",
       "      <td>2.746885</td>\n",
       "      <td>6.728525</td>\n",
       "      <td>1.542295</td>\n",
       "    </tr>\n",
       "    <tr>\n",
       "      <th>std</th>\n",
       "      <td>15.711209</td>\n",
       "      <td>0.880969</td>\n",
       "      <td>0.929951</td>\n",
       "      <td>1.174824</td>\n",
       "      <td>1.230703</td>\n",
       "      <td>3.297538</td>\n",
       "      <td>1.083315</td>\n",
       "    </tr>\n",
       "    <tr>\n",
       "      <th>min</th>\n",
       "      <td>24.000000</td>\n",
       "      <td>1.000000</td>\n",
       "      <td>1.000000</td>\n",
       "      <td>1.000000</td>\n",
       "      <td>1.000000</td>\n",
       "      <td>1.000000</td>\n",
       "      <td>0.000000</td>\n",
       "    </tr>\n",
       "    <tr>\n",
       "      <th>25%</th>\n",
       "      <td>41.000000</td>\n",
       "      <td>3.000000</td>\n",
       "      <td>3.000000</td>\n",
       "      <td>2.000000</td>\n",
       "      <td>2.000000</td>\n",
       "      <td>4.000000</td>\n",
       "      <td>0.000000</td>\n",
       "    </tr>\n",
       "    <tr>\n",
       "      <th>50%</th>\n",
       "      <td>53.000000</td>\n",
       "      <td>3.000000</td>\n",
       "      <td>3.000000</td>\n",
       "      <td>4.000000</td>\n",
       "      <td>2.000000</td>\n",
       "      <td>6.000000</td>\n",
       "      <td>2.000000</td>\n",
       "    </tr>\n",
       "    <tr>\n",
       "      <th>75%</th>\n",
       "      <td>67.000000</td>\n",
       "      <td>4.000000</td>\n",
       "      <td>4.000000</td>\n",
       "      <td>4.000000</td>\n",
       "      <td>4.000000</td>\n",
       "      <td>10.000000</td>\n",
       "      <td>2.000000</td>\n",
       "    </tr>\n",
       "    <tr>\n",
       "      <th>max</th>\n",
       "      <td>93.000000</td>\n",
       "      <td>5.000000</td>\n",
       "      <td>5.000000</td>\n",
       "      <td>5.000000</td>\n",
       "      <td>5.000000</td>\n",
       "      <td>11.000000</td>\n",
       "      <td>3.000000</td>\n",
       "    </tr>\n",
       "  </tbody>\n",
       "</table>\n",
       "</div>"
      ],
      "text/plain": [
       "               age  economic.cond.national  economic.cond.household  \\\n",
       "count  1525.000000             1525.000000              1525.000000   \n",
       "mean     54.182295                3.245902                 3.140328   \n",
       "std      15.711209                0.880969                 0.929951   \n",
       "min      24.000000                1.000000                 1.000000   \n",
       "25%      41.000000                3.000000                 3.000000   \n",
       "50%      53.000000                3.000000                 3.000000   \n",
       "75%      67.000000                4.000000                 4.000000   \n",
       "max      93.000000                5.000000                 5.000000   \n",
       "\n",
       "             Blair        Hague       Europe  political.knowledge  \n",
       "count  1525.000000  1525.000000  1525.000000          1525.000000  \n",
       "mean      3.334426     2.746885     6.728525             1.542295  \n",
       "std       1.174824     1.230703     3.297538             1.083315  \n",
       "min       1.000000     1.000000     1.000000             0.000000  \n",
       "25%       2.000000     2.000000     4.000000             0.000000  \n",
       "50%       4.000000     2.000000     6.000000             2.000000  \n",
       "75%       4.000000     4.000000    10.000000             2.000000  \n",
       "max       5.000000     5.000000    11.000000             3.000000  "
      ]
     },
     "execution_count": 14,
     "metadata": {},
     "output_type": "execute_result"
    }
   ],
   "source": [
    "df.describe()   # Summary statistics for numerical data"
   ]
  },
  {
   "cell_type": "code",
   "execution_count": null,
   "metadata": {},
   "outputs": [],
   "source": []
  }
 ],
 "metadata": {
  "kernelspec": {
   "display_name": "Python 3",
   "language": "python",
   "name": "python3"
  },
  "language_info": {
   "codemirror_mode": {
    "name": "ipython",
    "version": 3
   },
   "file_extension": ".py",
   "mimetype": "text/x-python",
   "name": "python",
   "nbconvert_exporter": "python",
   "pygments_lexer": "ipython3",
   "version": "3.12.6"
  }
 },
 "nbformat": 4,
 "nbformat_minor": 2
}
